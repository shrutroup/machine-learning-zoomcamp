{
 "cells": [
  {
   "cell_type": "code",
   "execution_count": 1,
   "id": "56dfa3a7-6a6e-4ea5-b112-693d85f3186c",
   "metadata": {},
   "outputs": [],
   "source": [
    "import pandas as pd\n",
    "import numpy as np"
   ]
  },
  {
   "cell_type": "code",
   "execution_count": 2,
   "id": "e43126d6-751f-4dd5-8ae6-0d94ea7fd13a",
   "metadata": {},
   "outputs": [
    {
     "data": {
      "text/plain": [
       "'2.3.2'"
      ]
     },
     "execution_count": 2,
     "metadata": {},
     "output_type": "execute_result"
    }
   ],
   "source": [
    "pd.__version__"
   ]
  },
  {
   "cell_type": "code",
   "execution_count": 3,
   "id": "a38c665b-e096-46a0-98ba-d8d8297807de",
   "metadata": {},
   "outputs": [],
   "source": [
    "# !wget https://raw.githubusercontent.com/alexeygrigorev/datasets/master/car_fuel_efficiency.csv"
   ]
  },
  {
   "cell_type": "code",
   "execution_count": 4,
   "id": "76ae80af-78c0-4885-abf7-18cea2fee196",
   "metadata": {},
   "outputs": [],
   "source": [
    "car_df = pd.read_csv('car_fuel_efficiency.csv')"
   ]
  },
  {
   "cell_type": "code",
   "execution_count": 5,
   "id": "e28ebcd4-3199-4c57-a926-cdb0943d8496",
   "metadata": {},
   "outputs": [
    {
     "data": {
      "text/html": [
       "<div>\n",
       "<style scoped>\n",
       "    .dataframe tbody tr th:only-of-type {\n",
       "        vertical-align: middle;\n",
       "    }\n",
       "\n",
       "    .dataframe tbody tr th {\n",
       "        vertical-align: top;\n",
       "    }\n",
       "\n",
       "    .dataframe thead th {\n",
       "        text-align: right;\n",
       "    }\n",
       "</style>\n",
       "<table border=\"1\" class=\"dataframe\">\n",
       "  <thead>\n",
       "    <tr style=\"text-align: right;\">\n",
       "      <th></th>\n",
       "      <th>engine_displacement</th>\n",
       "      <th>num_cylinders</th>\n",
       "      <th>horsepower</th>\n",
       "      <th>vehicle_weight</th>\n",
       "      <th>acceleration</th>\n",
       "      <th>model_year</th>\n",
       "      <th>origin</th>\n",
       "      <th>fuel_type</th>\n",
       "      <th>drivetrain</th>\n",
       "      <th>num_doors</th>\n",
       "      <th>fuel_efficiency_mpg</th>\n",
       "    </tr>\n",
       "  </thead>\n",
       "  <tbody>\n",
       "    <tr>\n",
       "      <th>0</th>\n",
       "      <td>170</td>\n",
       "      <td>3.0</td>\n",
       "      <td>159.0</td>\n",
       "      <td>3413.433759</td>\n",
       "      <td>17.7</td>\n",
       "      <td>2003</td>\n",
       "      <td>Europe</td>\n",
       "      <td>Gasoline</td>\n",
       "      <td>All-wheel drive</td>\n",
       "      <td>0.0</td>\n",
       "      <td>13.231729</td>\n",
       "    </tr>\n",
       "    <tr>\n",
       "      <th>1</th>\n",
       "      <td>130</td>\n",
       "      <td>5.0</td>\n",
       "      <td>97.0</td>\n",
       "      <td>3149.664934</td>\n",
       "      <td>17.8</td>\n",
       "      <td>2007</td>\n",
       "      <td>USA</td>\n",
       "      <td>Gasoline</td>\n",
       "      <td>Front-wheel drive</td>\n",
       "      <td>0.0</td>\n",
       "      <td>13.688217</td>\n",
       "    </tr>\n",
       "    <tr>\n",
       "      <th>2</th>\n",
       "      <td>170</td>\n",
       "      <td>NaN</td>\n",
       "      <td>78.0</td>\n",
       "      <td>3079.038997</td>\n",
       "      <td>15.1</td>\n",
       "      <td>2018</td>\n",
       "      <td>Europe</td>\n",
       "      <td>Gasoline</td>\n",
       "      <td>Front-wheel drive</td>\n",
       "      <td>0.0</td>\n",
       "      <td>14.246341</td>\n",
       "    </tr>\n",
       "    <tr>\n",
       "      <th>3</th>\n",
       "      <td>220</td>\n",
       "      <td>4.0</td>\n",
       "      <td>NaN</td>\n",
       "      <td>2542.392402</td>\n",
       "      <td>20.2</td>\n",
       "      <td>2009</td>\n",
       "      <td>USA</td>\n",
       "      <td>Diesel</td>\n",
       "      <td>All-wheel drive</td>\n",
       "      <td>2.0</td>\n",
       "      <td>16.912736</td>\n",
       "    </tr>\n",
       "    <tr>\n",
       "      <th>4</th>\n",
       "      <td>210</td>\n",
       "      <td>1.0</td>\n",
       "      <td>140.0</td>\n",
       "      <td>3460.870990</td>\n",
       "      <td>14.4</td>\n",
       "      <td>2009</td>\n",
       "      <td>Europe</td>\n",
       "      <td>Gasoline</td>\n",
       "      <td>All-wheel drive</td>\n",
       "      <td>2.0</td>\n",
       "      <td>12.488369</td>\n",
       "    </tr>\n",
       "  </tbody>\n",
       "</table>\n",
       "</div>"
      ],
      "text/plain": [
       "   engine_displacement  num_cylinders  horsepower  vehicle_weight  \\\n",
       "0                  170            3.0       159.0     3413.433759   \n",
       "1                  130            5.0        97.0     3149.664934   \n",
       "2                  170            NaN        78.0     3079.038997   \n",
       "3                  220            4.0         NaN     2542.392402   \n",
       "4                  210            1.0       140.0     3460.870990   \n",
       "\n",
       "   acceleration  model_year  origin fuel_type         drivetrain  num_doors  \\\n",
       "0          17.7        2003  Europe  Gasoline    All-wheel drive        0.0   \n",
       "1          17.8        2007     USA  Gasoline  Front-wheel drive        0.0   \n",
       "2          15.1        2018  Europe  Gasoline  Front-wheel drive        0.0   \n",
       "3          20.2        2009     USA    Diesel    All-wheel drive        2.0   \n",
       "4          14.4        2009  Europe  Gasoline    All-wheel drive        2.0   \n",
       "\n",
       "   fuel_efficiency_mpg  \n",
       "0            13.231729  \n",
       "1            13.688217  \n",
       "2            14.246341  \n",
       "3            16.912736  \n",
       "4            12.488369  "
      ]
     },
     "execution_count": 5,
     "metadata": {},
     "output_type": "execute_result"
    }
   ],
   "source": [
    "car_df.head()"
   ]
  },
  {
   "cell_type": "code",
   "execution_count": 6,
   "id": "013b276f-8dd5-4979-ac5e-b0795a411a6b",
   "metadata": {},
   "outputs": [
    {
     "name": "stdout",
     "output_type": "stream",
     "text": [
      "Q2. # of Records: 9704\n"
     ]
    }
   ],
   "source": [
    "print(f'Q2. # of Records: {car_df.shape[0]}')"
   ]
  },
  {
   "cell_type": "code",
   "execution_count": 7,
   "id": "1f277abd-0806-4d91-a443-ad2483060715",
   "metadata": {},
   "outputs": [
    {
     "name": "stdout",
     "output_type": "stream",
     "text": [
      "Q3. # of Fuel Types: 2\n",
      "Types of Fuel: ['Gasoline' 'Diesel']\n"
     ]
    }
   ],
   "source": [
    "print(f'Q3. # of Fuel Types: {car_df[\"fuel_type\"].nunique()}')\n",
    "print(f'Types of Fuel: {car_df[\"fuel_type\"].unique()}')"
   ]
  },
  {
   "cell_type": "code",
   "execution_count": 8,
   "id": "84e5d0b8-13ac-4622-b37b-97ebde8c7af5",
   "metadata": {},
   "outputs": [
    {
     "name": "stdout",
     "output_type": "stream",
     "text": [
      "no missing value in this engine_displacement\n",
      "*** num_cylinders has missing values ***\n",
      "*** horsepower has missing values ***\n",
      "no missing value in this vehicle_weight\n",
      "*** acceleration has missing values ***\n",
      "no missing value in this model_year\n",
      "no missing value in this origin\n",
      "no missing value in this fuel_type\n",
      "no missing value in this drivetrain\n",
      "*** num_doors has missing values ***\n",
      "no missing value in this fuel_efficiency_mpg\n",
      "\n",
      "Q4. Number of columns with missing values: 4\n"
     ]
    }
   ],
   "source": [
    "# Q4\n",
    "missing_val_cols = 0\n",
    "for col in car_df.columns:\n",
    "    if car_df[car_df[col].notna()].shape[0] == car_df.shape[0]:\n",
    "        print(f\"no missing value in this {col}\")\n",
    "    else:\n",
    "        missing_val_cols += 1\n",
    "        print(f\"*** {col} has missing values ***\")\n",
    "\n",
    "print(f'\\nQ4. Number of columns with missing values: {missing_val_cols}')"
   ]
  },
  {
   "cell_type": "code",
   "execution_count": 9,
   "id": "457dbb28-5a5a-45ed-879f-18ad2ff769ec",
   "metadata": {},
   "outputs": [
    {
     "name": "stdout",
     "output_type": "stream",
     "text": [
      "Q5. Max Fuel Efficiency of cars from Asia: 23.759122836520497\n"
     ]
    }
   ],
   "source": [
    "print(f'Q5. Max Fuel Efficiency of cars from Asia: {car_df[car_df.origin==\"Asia\"][\"fuel_efficiency_mpg\"].max()}')"
   ]
  },
  {
   "cell_type": "code",
   "execution_count": 10,
   "id": "9c3c5a98-eee5-463f-a1fb-7e079345cca1",
   "metadata": {},
   "outputs": [
    {
     "name": "stdout",
     "output_type": "stream",
     "text": [
      "Current Median Horsepower Value: 149.0\n",
      "Most Frequent Horsepower Value: 152.0\n",
      "\n",
      "Q6. New Horsepower Value: 152.0\n"
     ]
    }
   ],
   "source": [
    "# Q6\n",
    "hp_median = car_df.horsepower.median()\n",
    "print(f'Current Median Horsepower Value: {hp_median}')\n",
    "hp_mode = car_df.horsepower.mode()[0]\n",
    "print(f'Most Frequent Horsepower Value: {hp_mode}')\n",
    "\n",
    "# fill na hp and calc median again\n",
    "car_df['fill_horsepower'] = car_df['horsepower'].copy()\n",
    "car_df['fill_horsepower'] = car_df['fill_horsepower'].fillna(hp_mode)\n",
    "hp_median_new = car_df[\"fill_horsepower\"].median()\n",
    "print(f'\\nQ6. New Horsepower Value: {hp_median_new}') # <-- increased"
   ]
  },
  {
   "cell_type": "code",
   "execution_count": 11,
   "id": "4aed858f-2dd5-4f15-90a5-caa6386b99d2",
   "metadata": {},
   "outputs": [
    {
     "name": "stdout",
     "output_type": "stream",
     "text": [
      "X shape: (7, 2) [[2714.21930965 2016.        ]\n",
      " [2783.86897424 2010.        ]\n",
      " [3582.68736772 2007.        ]\n",
      " [2231.8081416  2011.        ]\n",
      " [2659.43145076 2016.        ]\n",
      " [2844.22753389 2014.        ]\n",
      " [3761.99403819 2019.        ]]\n",
      "XT shape: (2, 7) [[2714.21930965 2783.86897424 3582.68736772 2231.8081416  2659.43145076\n",
      "  2844.22753389 3761.99403819]\n",
      " [2016.         2010.         2007.         2011.         2016.\n",
      "  2014.         2019.        ]]\n",
      "\n",
      "XTX shape: (2, 2) [[62248334.33150761 41431216.5073268 ]\n",
      " [41431216.5073268  28373339.        ]]\n",
      "\n",
      "XTX_inv shape: (2, 2) [[ 5.71497081e-07 -8.34509443e-07]\n",
      " [-8.34509443e-07  1.25380877e-06]]\n",
      "\n",
      "w shape: (2,) [0.01386421 0.5049067 ]\n",
      "\n",
      "Q7 Sum of Weights: 0.5187709081074006\n"
     ]
    }
   ],
   "source": [
    "# Q7\n",
    "asia_df = car_df[car_df.origin == \"Asia\"][[\"vehicle_weight\", \"model_year\"]].copy()\n",
    "X = asia_df[0:7].to_numpy()\n",
    "print(f'X shape: {X.shape} {X}')\n",
    "\n",
    "XT = X.T\n",
    "print(f'XT shape: {XT.shape} {XT}\\n')\n",
    "\n",
    "XTX = XT.dot(X)\n",
    "print(f'XTX shape: {XTX.shape} {XTX}\\n')\n",
    "\n",
    "XTX_inv = np.linalg.inv(XTX)\n",
    "print(f'XTX_inv shape: {XTX_inv.shape} {XTX_inv}\\n')\n",
    "\n",
    "y = [1100, 1300, 800, 900, 1000, 1100, 1200]\n",
    "\n",
    "w = XTX_inv.dot(XT).dot(y)\n",
    "print(f'w shape: {w.shape} {w}\\n')\n",
    "print(f'Q7 Sum of Weights: {w.sum()}')"
   ]
  },
  {
   "cell_type": "code",
   "execution_count": null,
   "id": "96413c01-8ee1-4685-8781-a08a3aa6d981",
   "metadata": {},
   "outputs": [],
   "source": []
  }
 ],
 "metadata": {
  "kernelspec": {
   "display_name": "Python 3 (ipykernel)",
   "language": "python",
   "name": "python3"
  },
  "language_info": {
   "codemirror_mode": {
    "name": "ipython",
    "version": 3
   },
   "file_extension": ".py",
   "mimetype": "text/x-python",
   "name": "python",
   "nbconvert_exporter": "python",
   "pygments_lexer": "ipython3",
   "version": "3.9.6"
  }
 },
 "nbformat": 4,
 "nbformat_minor": 5
}
